{
 "cells": [
  {
   "cell_type": "markdown",
   "metadata": {},
   "source": [
    "# ************** Tratamento de Arquivos **************"
   ]
  },
  {
   "cell_type": "markdown",
   "metadata": {},
   "source": [
    "# LEITURA DE ARQUIVOS"
   ]
  },
  {
   "cell_type": "code",
   "execution_count": null,
   "metadata": {
    "collapsed": true
   },
   "outputs": [],
   "source": [
    "# Arquivos em python\n",
    "arq1 = open(\"arquivos/4.1_arquivos.txt\", 'r')\n",
    "print(arq1.read())"
   ]
  },
  {
   "cell_type": "code",
   "execution_count": null,
   "metadata": {
    "collapsed": true
   },
   "outputs": [],
   "source": [
    "# Contagem do numero de caracteres\n",
    "print(arq1.tell())"
   ]
  },
  {
   "cell_type": "code",
   "execution_count": null,
   "metadata": {
    "collapsed": true
   },
   "outputs": [],
   "source": [
    "# Leitura de arquivo a partir de um ponto dele\n",
    "print(arq1.seek(0,0))"
   ]
  },
  {
   "cell_type": "code",
   "execution_count": null,
   "metadata": {
    "collapsed": true
   },
   "outputs": [],
   "source": [
    "# leitura de numero especifico de caracteres\n",
    "print(arq1.read(0))"
   ]
  },
  {
   "cell_type": "markdown",
   "metadata": {},
   "source": [
    "# GRAVANDO ARQUIVOS"
   ]
  },
  {
   "cell_type": "code",
   "execution_count": null,
   "metadata": {
    "collapsed": true
   },
   "outputs": [],
   "source": [
    "# gravando texto em arquivos\n",
    "arq2 = open(\"arquivos/4.1_arquivos.txt\", \"w\") #w = write\n",
    "arq2.write(\"Ola gaivota\")\n",
    "arq2.close()\n",
    "arq2 = open(\"arquivos/4.1_arquivos.txt\", \"r\") # r = read\n",
    "print(arq2.read())"
   ]
  },
  {
   "cell_type": "code",
   "execution_count": null,
   "metadata": {
    "collapsed": true
   },
   "outputs": [],
   "source": [
    "# acrescentando texto em arquivos\n",
    "arq2 = open(\"arquivos/4.1_arquivos.txt\", \"a\") # a = append\n",
    "arq2.write(\"\\nCapitão Diéquíspérou!\")\n",
    "arq2.close()\n",
    "arq2 = open(\"arquivos/4.1_arquivos.txt\", 'r')\n",
    "print(arq2.read())"
   ]
  },
  {
   "cell_type": "code",
   "execution_count": null,
   "metadata": {
    "collapsed": true
   },
   "outputs": [],
   "source": [
    "# Retornando a leitura inicial\n",
    "print(arq1.seek(0,0))\n",
    "print(arq1.read(10))"
   ]
  },
  {
   "cell_type": "code",
   "execution_count": 6,
   "metadata": {},
   "outputs": [
    {
     "name": "stdout",
     "output_type": "stream",
     "text": [
      "Digite o nome do arquivo: oi\n",
      "Incluindo texto criado\n"
     ]
    }
   ],
   "source": [
    "# AUTOMATIZAR GRAVAÇÃO gerando um arquivo txt novo\n",
    "fileName = input(\"Digite o nome do arquivo: \")\n",
    "fileName = fileName + '.txt'\n",
    "arq3 = open(fileName, 'w')\n",
    "arq3.write(\"Incluindo texto criado\")           \n",
    "arq3.close()\n",
    "arq3 = open(fileName, 'r')\n",
    "print(arq3.read())\n",
    "arq3.close()"
   ]
  },
  {
   "cell_type": "code",
   "execution_count": null,
   "metadata": {
    "collapsed": true
   },
   "outputs": [],
   "source": [
    "\n",
    "# ERRO\n",
    "# ABRINDO ARQUIVOS e dividindo por linhas\n",
    "f = open('arquivos/5.txt', 'r')\n",
    "data = f.read()\n",
    "row = data.split('\\n')\n",
    "print(row)"
   ]
  },
  {
   "cell_type": "code",
   "execution_count": 2,
   "metadata": {},
   "outputs": [
    {
     "name": "stdout",
     "output_type": "stream",
     "text": [
      "[['A Política do Brasil funciona sob o modelo de república federativa presidencialista', ' formada pela União', ' os estados', ' o Distrito Federal e os municípios', ' o exercício do poder é atribuído a órgãos distintos e independentes', ' submetidos a um sistema de controle para garantir o cumprimento das leis e da Constituição. O Brasil é uma república porque o chefe do Estado é eleito pelo povo', ' por mandato. É presidencialista porque o presidente da República é chefe de Estado e também chefe de governo. É federativa porque os entes federativos têm autonomia política.'], ['A União está dividida em três poderes', ' independentes e harmônicos entre si. São eles o legislativo', ' que elabora leis; o executivo', ' que atua na execução de programas ou prestação de serviço público; e o judiciário', ' que soluciona conflitos entre cidadãos', ' entidades e o Estado.'], ['O Brasil tem um sistema pluripartidário', ' ou seja', ' admite a formação legal de vários partidos políticos. Estes são associações voluntárias de pessoas que compartilham os mesmos ideais', ' interesses', ' objetivos e doutrinas políticas', ' que tem como objetivo influenciar e fazer parte do poder político.'], ['Em 1980', ' o cientista político Sérgio Abranches cunhou a expressão \"presidencialismo de coalizão\" para definir o mecanismo de funcionamento do regime político-institucional brasileiro. O presidencialismo de coalizão designa a realidade de um país presidencialista em que a fragmentação do poder parlamentar entre vários partidos obriga o executivo a uma prática que costuma ser mais associada ao parlamentarismo. Segundo Abranches', ' mesmo eleito diretamente', ' o presidente da República', ' torna-se refém do Congresso.[1]'], ['Histórico'], [''], ['Em 1494', ' Portugal convenceu o Papa Alexandre VI a arbitrar entre as duas potências católicas', ' Espanha e Portugal', ' no Tratado de Tordesilhas.[2] Sob os termos do tratado', ' Portugal ficaria com toda a terra no espaço de 370 léguas a oeste das ilhas de Cabo Verde.[2] Seis anos depois', ' Pedro Álvares Cabral chegou ao Brasil', ' que foi colonizado de forma gradual nos quatro séculos seguintes.[2] Rivais como os holandeses', ' que ocuparam brevemente o Nordeste no século XVII', ' foram derrotados e escravos foram trazidos da África após os indígenas se mostrarem resistentes ao trabalho manual.[2] Houve surtos de riqueza causados pelo açúcar', ' ouro e algodão', ' mas Portugal demorou a encontrar muitas vantagens econômicas em sua colônia sul-americana.[2]'], ['Enquanto uma sociedade semifeudal se consolidava na costa através das capitanias hereditárias', ' uma sociedade mais dinâmica e sem lei crescia em São Paulo', ' no Oeste', ' no Sul e acima dos afluentes do Rio Amazonas', ' onde a miscigenação era comum.[2] No começo do século XIX', ' o Brasil juntou-se ao mundo europeu após a invasão de Portugal pelas forças napoleônicas em 1807.[2] Escoltada pela marinha britânica', ' a corte portuguesa permanecera no Rio de Janeiro de 1808 a 1821.[2] Sobreveio uma onda de modernidade', ' mas a experiência também destacou as diferenças entre o Brasil e o resto da América Latina.[2] As ideias do Iluminismo e as Revoluções Americana e Francesa desencadearam violentas rebeliões contra a coroa espanhola. No Brasil', ' o filho mais novo do rei proclamou a independência em 1822', ' dando início ao conservador Império do Brasil', ' que fez do Brasil o último país do continente americano a abolir a escravidão.[2] Em 1889', ' um golpe militar pôs fim ao período.[2]'], ['No início do século XX', ' a política brasileira era dominada pelo \"café com leite\".[2] Os estados de São Paulo', ' com sua vasta lavoura cafeeira e de Minas Gerais', ' com sua produção leiteira', ' dominavam a política nacional.[2] O Nordeste era controlado por coronéis', ' reacionários donos de terra que podiam ou não ter sido outrora oficiais militares.[2] Ao Sul', ' uma terra sem lei', ' havia impaciência com a morosidade e a corrupção do governo federal no Rio de Janeiro.[2] A política era elitista', ' ardilosa e pessoal', ' e o hábito de conchavos e troca de favores sobrevivia desde o período imperial.[2] O Brasil era majoritariamente agrário', ' mas nas grandes cidades do Sudeste havia um começo de capitalismo industrial.[2] Em 1904', ' Francisco Matarazzo abriu sua primeira fábrica têxtil e trinta anos depois as receitas de seus negócios correspondiam a 87', '5 % do PIB do estado.[2] O Partido Comunista Brasileiro (PCB) foi fundado em 1922 e a Federação das Indústrias do Estado de São Paulo (FIESP) seis anos depois.[2]'], ['A Revolução de 1930 elevou Getúlio Vargas ao poder.[2] Vargas fora presidente da província do Rio Grande do Sul e concorrera na eleição daquele ano pela Aliança Liberal.[2] Recebeu apoio dos presidentes das províncias de Minas Gerais e da Paraíba', ' mas o voto não era secreto e as eleições eram fixadas por meio da divisão de espólios entre máquinas políticas estaduais.[2] O presidente Washington Luís declarou que seu candidato', ' Júlio Prestes', ' havia ganho a disputa com o dobro de votos.[2] Com a crise de 1929', ' a produção de café', ' principal produto de exportação do país', ' entrou em crise.[2] O capital estrangeiro fugiu do Brasil e as reservas em ouro do governo haviam caído para zero no final de 1930.[2] Além disso', ' a insatisfação de jovens oficiais do Exército causou o fenômeno conhecido como tenentismo.[2] Estava pronto o cenário para a revolução.[2] A insurreição obteve sucesso em menos de um mês.[2]'], ['Vargas foi a principal figura da política brasileira até seu suicídio em 1954.[2] Ele derrotou uma rebelião em São Paulo em 1932', ' uma tentativa de golpe comunista em 1935 e ficou aprisionado durante um quase bem-sucedido golpe dos integralistas em 1938.[2] Instaurou uma ditadura personalista de estilo fascista em 1937 e levou o Brasil à Segunda Guerra Mundial ao lado dos Aliados em 1942.[2] Na Europa', ' a ideologia fascista fizera pouco pelos trabalhadores além de destruir os sindicatos', ' mas no Brasil foi reinterpretada pelo Estado Novo para dar aos operários sindicalizados uma participação na sociedade.[2] A abordagem era paternalista e clientelista', ' com muito poder investido ao Ministério do Trabalho e pouca liberdade aos operários se organizarem.[2] As greves foram proscritas pela Constituição de 1937', ' mas com um salário mínimo em algumas categorias', ' os pobres que saíam do campo para a sociedade industrial tinham alguma assistência.[2]'], [''], ['']]\n"
     ]
    }
   ],
   "source": [
    "# Separa o texto do arquivo lido após uma virgula detectada\n",
    "f = open('arquivos/5.txt', 'r')    # acessa arquivo\n",
    "data = f.read()                    # le arquivo\n",
    "rolar = data.split('\\n')\n",
    "full_data = []\n",
    "for row in rolar:\n",
    "    split_row = row.split(',')\n",
    "    full_data.append(split_row)     # adiciona na lista vazia as parte cortadas\n",
    "print(full_data)"
   ]
  },
  {
   "cell_type": "code",
   "execution_count": 3,
   "metadata": {},
   "outputs": [
    {
     "name": "stdout",
     "output_type": "stream",
     "text": [
      "13\n"
     ]
    }
   ],
   "source": [
    "# Contagem do numero de colunas criadas dentro do arquivo full_data\n",
    "count = 0\n",
    "for i in full_data:\n",
    "    count = count+1\n",
    "print(count)"
   ]
  },
  {
   "cell_type": "code",
   "execution_count": 4,
   "metadata": {},
   "outputs": [
    {
     "ename": "SyntaxError",
     "evalue": "invalid syntax (<ipython-input-4-5b903eee763a>, line 2)",
     "output_type": "error",
     "traceback": [
      "\u001b[1;36m  File \u001b[1;32m\"<ipython-input-4-5b903eee763a>\"\u001b[1;36m, line \u001b[1;32m2\u001b[0m\n\u001b[1;33m    %%writefile arquivos/5.txt\u001b[0m\n\u001b[1;37m    ^\u001b[0m\n\u001b[1;31mSyntaxError\u001b[0m\u001b[1;31m:\u001b[0m invalid syntax\n"
     ]
    }
   ],
   "source": [
    "# ERRO - GRAVANÇÃO DE ARQUIVOS PELI JUPITER NOTEBOOK\n",
    "%%writefile arquivos/5.txt\n",
    "Arquivo gerado pelo proprio compilador Jupiter\n",
    "\n",
    ":)"
   ]
  },
  {
   "cell_type": "code",
   "execution_count": 8,
   "metadata": {},
   "outputs": [
    {
     "data": {
      "text/plain": [
       "['A Política do Brasil funciona sob o modelo de república federativa presidencialista, formada pela União, os estados, o Distrito Federal e os municípios, o exercício do poder é atribuído a órgãos distintos e independentes, submetidos a um sistema de controle para garantir o cumprimento das leis e da Constituição. O Brasil é uma república porque o chefe do Estado é eleito pelo povo, por mandato. É presidencialista porque o presidente da República é chefe de Estado e também chefe de governo. É federativa porque os entes federativos têm autonomia política.\\n',\n",
       " 'A União está dividida em três poderes, independentes e harmônicos entre si. São eles o legislativo, que elabora leis; o executivo, que atua na execução de programas ou prestação de serviço público; e o judiciário, que soluciona conflitos entre cidadãos, entidades e o Estado.\\n',\n",
       " 'O Brasil tem um sistema pluripartidário, ou seja, admite a formação legal de vários partidos políticos. Estes são associações voluntárias de pessoas que compartilham os mesmos ideais, interesses, objetivos e doutrinas políticas, que tem como objetivo influenciar e fazer parte do poder político.\\n',\n",
       " 'Em 1980, o cientista político Sérgio Abranches cunhou a expressão \"presidencialismo de coalizão\" para definir o mecanismo de funcionamento do regime político-institucional brasileiro. O presidencialismo de coalizão designa a realidade de um país presidencialista em que a fragmentação do poder parlamentar entre vários partidos obriga o executivo a uma prática que costuma ser mais associada ao parlamentarismo. Segundo Abranches, mesmo eleito diretamente, o presidente da República, torna-se refém do Congresso.[1]\\n',\n",
       " 'Histórico\\n',\n",
       " '\\n',\n",
       " 'Em 1494, Portugal convenceu o Papa Alexandre VI a arbitrar entre as duas potências católicas, Espanha e Portugal, no Tratado de Tordesilhas.[2] Sob os termos do tratado, Portugal ficaria com toda a terra no espaço de 370 léguas a oeste das ilhas de Cabo Verde.[2] Seis anos depois, Pedro Álvares Cabral chegou ao Brasil, que foi colonizado de forma gradual nos quatro séculos seguintes.[2] Rivais como os holandeses, que ocuparam brevemente o Nordeste no século XVII, foram derrotados e escravos foram trazidos da África após os indígenas se mostrarem resistentes ao trabalho manual.[2] Houve surtos de riqueza causados pelo açúcar, ouro e algodão, mas Portugal demorou a encontrar muitas vantagens econômicas em sua colônia sul-americana.[2]\\n',\n",
       " 'Enquanto uma sociedade semifeudal se consolidava na costa através das capitanias hereditárias, uma sociedade mais dinâmica e sem lei crescia em São Paulo, no Oeste, no Sul e acima dos afluentes do Rio Amazonas, onde a miscigenação era comum.[2] No começo do século XIX, o Brasil juntou-se ao mundo europeu após a invasão de Portugal pelas forças napoleônicas em 1807.[2] Escoltada pela marinha britânica, a corte portuguesa permanecera no Rio de Janeiro de 1808 a 1821.[2] Sobreveio uma onda de modernidade, mas a experiência também destacou as diferenças entre o Brasil e o resto da América Latina.[2] As ideias do Iluminismo e as Revoluções Americana e Francesa desencadearam violentas rebeliões contra a coroa espanhola. No Brasil, o filho mais novo do rei proclamou a independência em 1822, dando início ao conservador Império do Brasil, que fez do Brasil o último país do continente americano a abolir a escravidão.[2] Em 1889, um golpe militar pôs fim ao período.[2]\\n',\n",
       " 'No início do século XX, a política brasileira era dominada pelo \"café com leite\".[2] Os estados de São Paulo, com sua vasta lavoura cafeeira e de Minas Gerais, com sua produção leiteira, dominavam a política nacional.[2] O Nordeste era controlado por coronéis, reacionários donos de terra que podiam ou não ter sido outrora oficiais militares.[2] Ao Sul, uma terra sem lei, havia impaciência com a morosidade e a corrupção do governo federal no Rio de Janeiro.[2] A política era elitista, ardilosa e pessoal, e o hábito de conchavos e troca de favores sobrevivia desde o período imperial.[2] O Brasil era majoritariamente agrário, mas nas grandes cidades do Sudeste havia um começo de capitalismo industrial.[2] Em 1904, Francisco Matarazzo abriu sua primeira fábrica têxtil e trinta anos depois as receitas de seus negócios correspondiam a 87,5 % do PIB do estado.[2] O Partido Comunista Brasileiro (PCB) foi fundado em 1922 e a Federação das Indústrias do Estado de São Paulo (FIESP) seis anos depois.[2]\\n',\n",
       " 'A Revolução de 1930 elevou Getúlio Vargas ao poder.[2] Vargas fora presidente da província do Rio Grande do Sul e concorrera na eleição daquele ano pela Aliança Liberal.[2] Recebeu apoio dos presidentes das províncias de Minas Gerais e da Paraíba, mas o voto não era secreto e as eleições eram fixadas por meio da divisão de espólios entre máquinas políticas estaduais.[2] O presidente Washington Luís declarou que seu candidato, Júlio Prestes, havia ganho a disputa com o dobro de votos.[2] Com a crise de 1929, a produção de café, principal produto de exportação do país, entrou em crise.[2] O capital estrangeiro fugiu do Brasil e as reservas em ouro do governo haviam caído para zero no final de 1930.[2] Além disso, a insatisfação de jovens oficiais do Exército causou o fenômeno conhecido como tenentismo.[2] Estava pronto o cenário para a revolução.[2] A insurreição obteve sucesso em menos de um mês.[2]\\n',\n",
       " 'Vargas foi a principal figura da política brasileira até seu suicídio em 1954.[2] Ele derrotou uma rebelião em São Paulo em 1932, uma tentativa de golpe comunista em 1935 e ficou aprisionado durante um quase bem-sucedido golpe dos integralistas em 1938.[2] Instaurou uma ditadura personalista de estilo fascista em 1937 e levou o Brasil à Segunda Guerra Mundial ao lado dos Aliados em 1942.[2] Na Europa, a ideologia fascista fizera pouco pelos trabalhadores além de destruir os sindicatos, mas no Brasil foi reinterpretada pelo Estado Novo para dar aos operários sindicalizados uma participação na sociedade.[2] A abordagem era paternalista e clientelista, com muito poder investido ao Ministério do Trabalho e pouca liberdade aos operários se organizarem.[2] As greves foram proscritas pela Constituição de 1937, mas com um salário mínimo em algumas categorias, os pobres que saíam do campo para a sociedade industrial tinham alguma assistência.[2]\\n',\n",
       " '\\n']"
      ]
     },
     "execution_count": 8,
     "metadata": {},
     "output_type": "execute_result"
    }
   ],
   "source": [
    "#Comando READLINES() - Leitura de arquivos linha a linha\n",
    "f.seek(0)\n",
    "f.readlines()"
   ]
  },
  {
   "cell_type": "code",
   "execution_count": 1,
   "metadata": {
    "collapsed": true
   },
   "outputs": [],
   "source": [
    "# MANIPULANDO ARQUIVOS TXT\n"
   ]
  },
  {
   "cell_type": "code",
   "execution_count": null,
   "metadata": {
    "collapsed": true
   },
   "outputs": [],
   "source": []
  },
  {
   "cell_type": "markdown",
   "metadata": {},
   "source": [
    "# MODULOS OU PACOTES"
   ]
  },
  {
   "cell_type": "code",
   "execution_count": 2,
   "metadata": {
    "collapsed": true
   },
   "outputs": [],
   "source": [
    "# MODULOS: são as bibliotecas com a terminação \".py\" usando o comando \"import (arquivo)\"\n",
    "#          from (função)  import (arquivo)\n",
    "\n",
    "# PACOTES: são os conjuntos de bibliotecas do python usando o comando \"import pacote.modulo\""
   ]
  },
  {
   "cell_type": "code",
   "execution_count": 4,
   "metadata": {},
   "outputs": [
    {
     "name": "stdout",
     "output_type": "stream",
     "text": [
      "5.0\n"
     ]
    }
   ],
   "source": [
    "import math\n",
    "print(math.sqrt(25))\n"
   ]
  },
  {
   "cell_type": "code",
   "execution_count": 5,
   "metadata": {},
   "outputs": [
    {
     "data": {
      "text/plain": [
       "['__doc__',\n",
       " '__loader__',\n",
       " '__name__',\n",
       " '__package__',\n",
       " '__spec__',\n",
       " 'acos',\n",
       " 'acosh',\n",
       " 'asin',\n",
       " 'asinh',\n",
       " 'atan',\n",
       " 'atan2',\n",
       " 'atanh',\n",
       " 'ceil',\n",
       " 'copysign',\n",
       " 'cos',\n",
       " 'cosh',\n",
       " 'degrees',\n",
       " 'e',\n",
       " 'erf',\n",
       " 'erfc',\n",
       " 'exp',\n",
       " 'expm1',\n",
       " 'fabs',\n",
       " 'factorial',\n",
       " 'floor',\n",
       " 'fmod',\n",
       " 'frexp',\n",
       " 'fsum',\n",
       " 'gamma',\n",
       " 'gcd',\n",
       " 'hypot',\n",
       " 'inf',\n",
       " 'isclose',\n",
       " 'isfinite',\n",
       " 'isinf',\n",
       " 'isnan',\n",
       " 'ldexp',\n",
       " 'lgamma',\n",
       " 'log',\n",
       " 'log10',\n",
       " 'log1p',\n",
       " 'log2',\n",
       " 'modf',\n",
       " 'nan',\n",
       " 'pi',\n",
       " 'pow',\n",
       " 'radians',\n",
       " 'sin',\n",
       " 'sinh',\n",
       " 'sqrt',\n",
       " 'tan',\n",
       " 'tanh',\n",
       " 'tau',\n",
       " 'trunc']"
      ]
     },
     "execution_count": 5,
     "metadata": {},
     "output_type": "execute_result"
    }
   ],
   "source": [
    "# Mostra todos os modulos disponiveis para calculo no diretorio\n",
    "dir(math)\n"
   ]
  },
  {
   "cell_type": "code",
   "execution_count": 8,
   "metadata": {},
   "outputs": [
    {
     "name": "stdout",
     "output_type": "stream",
     "text": [
      "5.0\n",
      "Help on built-in function sqrt in module math:\n",
      "\n",
      "sqrt(...)\n",
      "    sqrt(x)\n",
      "    \n",
      "    Return the square root of x.\n",
      "\n"
     ]
    }
   ],
   "source": [
    "# não precisa mais usaro a separacao por pontos, importa a funcao diretamente do diretorio e somente ela. ajuda no processamento\n",
    "from math import sqrt \n",
    "print(sqrt(25))\n",
    "\n",
    "help(sqrt)    # funcao que ajuda a compreender o funcionamento da funcao\n"
   ]
  },
  {
   "cell_type": "code",
   "execution_count": 12,
   "metadata": {},
   "outputs": [
    {
     "name": "stdout",
     "output_type": "stream",
     "text": [
      "1 \n",
      "\n",
      "[0, 6, 3, 1, 2]\n"
     ]
    }
   ],
   "source": [
    "# PACOTE RANDOM\n",
    "import random\n",
    "\n",
    "print(random.choice([1,2,3]), '\\n')     # printa um valor aleatorio da lista\n",
    "print(random.sample(range(10), 5))      # printa 5 uma lista de valores entre 0 e 10\n"
   ]
  },
  {
   "cell_type": "code",
   "execution_count": 13,
   "metadata": {},
   "outputs": [
    {
     "name": "stdout",
     "output_type": "stream",
     "text": [
      "4.6\n",
      "4.5\n"
     ]
    }
   ],
   "source": [
    "# PACOTE STATISTIC\n",
    "import statistics\n",
    "\n",
    "dados = [1,2,3,4,5,6,7,8,9,1]\n",
    "print(statistics.mean(dados))      # printa a MÉDIA dos valores\n",
    "print(statistics.median(dados))    # printa a MEDIANA dos valores\n"
   ]
  },
  {
   "cell_type": "code",
   "execution_count": 14,
   "metadata": {},
   "outputs": [
    {
     "name": "stdout",
     "output_type": "stream",
     "text": [
      "C:\\Users\\Usuario\\Desktop\\Otavio\\Untitled Folder \n",
      "\n",
      "['DirEntry', 'F_OK', 'MutableMapping', 'O_APPEND', 'O_BINARY', 'O_CREAT', 'O_EXCL', 'O_NOINHERIT', 'O_RANDOM', 'O_RDONLY', 'O_RDWR', 'O_SEQUENTIAL', 'O_SHORT_LIVED', 'O_TEMPORARY', 'O_TEXT', 'O_TRUNC', 'O_WRONLY', 'P_DETACH', 'P_NOWAIT', 'P_NOWAITO', 'P_OVERLAY', 'P_WAIT', 'PathLike', 'R_OK', 'SEEK_CUR', 'SEEK_END', 'SEEK_SET', 'TMP_MAX', 'W_OK', 'X_OK', '_Environ', '__all__', '__builtins__', '__cached__', '__doc__', '__file__', '__loader__', '__name__', '__package__', '__spec__', '_execvpe', '_exists', '_exit', '_fspath', '_get_exports_list', '_putenv', '_unsetenv', '_wrap_close', 'abc', 'abort', 'access', 'altsep', 'chdir', 'chmod', 'close', 'closerange', 'cpu_count', 'curdir', 'defpath', 'device_encoding', 'devnull', 'dup', 'dup2', 'environ', 'errno', 'error', 'execl', 'execle', 'execlp', 'execlpe', 'execv', 'execve', 'execvp', 'execvpe', 'extsep', 'fdopen', 'fsdecode', 'fsencode', 'fspath', 'fstat', 'fsync', 'ftruncate', 'get_exec_path', 'get_handle_inheritable', 'get_inheritable', 'get_terminal_size', 'getcwd', 'getcwdb', 'getenv', 'getlogin', 'getpid', 'getppid', 'isatty', 'kill', 'linesep', 'link', 'listdir', 'lseek', 'lstat', 'makedirs', 'mkdir', 'name', 'open', 'pardir', 'path', 'pathsep', 'pipe', 'popen', 'putenv', 'read', 'readlink', 'remove', 'removedirs', 'rename', 'renames', 'replace', 'rmdir', 'scandir', 'sep', 'set_handle_inheritable', 'set_inheritable', 'spawnl', 'spawnle', 'spawnv', 'spawnve', 'st', 'startfile', 'stat', 'stat_float_times', 'stat_result', 'statvfs_result', 'strerror', 'supports_bytes_environ', 'supports_dir_fd', 'supports_effective_ids', 'supports_fd', 'supports_follow_symlinks', 'symlink', 'sys', 'system', 'terminal_size', 'times', 'times_result', 'truncate', 'umask', 'uname_result', 'unlink', 'urandom', 'utime', 'waitpid', 'walk', 'write']\n"
     ]
    }
   ],
   "source": [
    "# PACOTE OS - operação no sistema operacional na manipulação de arquivos\n",
    "import os\n",
    "print(os.getcwd(),'\\n')    # saber diretorio onde está este arquivo sendo manipulado\n",
    "print(dir(os))             # todos os pacotes do os\n"
   ]
  },
  {
   "cell_type": "code",
   "execution_count": 20,
   "metadata": {},
   "outputs": [
    {
     "name": "stdout",
     "output_type": "stream",
     "text": [
      "TESTE\n",
      "\n",
      "3.6.2 |Anaconda, Inc.| (default, Sep 19 2017, 08:03:39) [MSC v.1900 64 bit (AMD64)] \n",
      "\n",
      "['__displayhook__', '__doc__', '__excepthook__', '__interactivehook__', '__loader__', '__name__', '__package__', '__spec__', '__stderr__', '__stdin__', '__stdout__', '_clear_type_cache', '_current_frames', '_debugmallocstats', '_enablelegacywindowsfsencoding', '_getframe', '_git', '_home', '_xoptions', 'api_version', 'argv', 'base_exec_prefix', 'base_prefix', 'builtin_module_names', 'byteorder', 'call_tracing', 'callstats', 'copyright', 'displayhook', 'dllhandle', 'dont_write_bytecode', 'exc_info', 'excepthook', 'exec_prefix', 'executable', 'exit', 'flags', 'float_info', 'float_repr_style', 'get_asyncgen_hooks', 'get_coroutine_wrapper', 'getallocatedblocks', 'getcheckinterval', 'getdefaultencoding', 'getfilesystemencodeerrors', 'getfilesystemencoding', 'getprofile', 'getrecursionlimit', 'getrefcount', 'getsizeof', 'getswitchinterval', 'gettrace', 'getwindowsversion', 'hash_info', 'hexversion', 'implementation', 'int_info', 'intern', 'is_finalizing', 'last_traceback', 'last_type', 'last_value', 'maxsize', 'maxunicode', 'meta_path', 'modules', 'path', 'path_hooks', 'path_importer_cache', 'platform', 'prefix', 'ps1', 'ps2', 'ps3', 'set_asyncgen_hooks', 'set_coroutine_wrapper', 'setcheckinterval', 'setprofile', 'setrecursionlimit', 'setswitchinterval', 'settrace', 'stderr', 'stdin', 'stdout', 'thread_info', 'version', 'version_info', 'warnoptions', 'winver']\n"
     ]
    }
   ],
   "source": [
    "# PACOTE SYS - pacote que permite interação com o sistema operacional\n",
    "import sys\n",
    "\n",
    "sys.stdout.write(\"TESTE\\n\\n\")    # gravação da palavra na saida do jupiter nootbook (interpretador)\n",
    "print(sys.version, '\\n')                  # versão usada do anaconda\n",
    "print(dir(sys))"
   ]
  },
  {
   "cell_type": "code",
   "execution_count": 21,
   "metadata": {},
   "outputs": [
    {
     "name": "stdout",
     "output_type": "stream",
     "text": [
      "<http.client.HTTPResponse object at 0x0000000005A91C50>\n"
     ]
    }
   ],
   "source": [
    "# PACOTE URL LIB - para uso de links no diretorio\n",
    "import urllib.request\n",
    "\n",
    "resposta = urllib.request.urlopen(\"http://packaging.python.org\")\n",
    "print(resposta)"
   ]
  },
  {
   "cell_type": "code",
   "execution_count": 53,
   "metadata": {},
   "outputs": [
    {
     "name": "stdout",
     "output_type": "stream",
     "text": [
      "['MAXYEAR', 'MINYEAR', '__builtins__', '__cached__', '__doc__', '__file__', '__loader__', '__name__', '__package__', '__spec__', '_divide_and_round', 'date', 'datetime', 'datetime_CAPI', 'time', 'timedelta', 'timezone', 'tzinfo'] \n",
      "\n",
      "2022-07-14 20:05:03.509003 \n",
      "\n",
      "07:24:13 \n",
      "\n",
      "Hora:\t\t 7\n",
      "Minutos:\t 24\n",
      "Segundos:\t 13\n",
      "Microssegundos:\t 0\n",
      "\n",
      "2022-07-14\n",
      "ctime:\t Thu Jul 14 00:00:00 2022\n",
      "Ano:\t 2022\n",
      "Mês:\t 7\n",
      "Dia:\t 14\n",
      "\n",
      "2022-04-28 \n",
      " 2015-04-28\n",
      "2557 days, 0:00:00\n"
     ]
    }
   ],
   "source": [
    "# PACOTE DATE TIME\n",
    "import datetime\n",
    "\n",
    "print(dir(datetime), '\\n')\n",
    "\n",
    "# podemos saber qual é a hora de agora\n",
    "agora = datetime.datetime.now() \n",
    "print(agora, '\\n')\n",
    "\n",
    "# podemos inventar uma hora passando os parametros\n",
    "time = datetime.time(7,24,13)\n",
    "print(time, '\\n')\n",
    "\n",
    "# podemos retirar os parametros individualmente\n",
    "print(\"Hora:\\t\\t\",time.hour)\n",
    "print(\"Minutos:\\t\",time.minute)\n",
    "print(\"Segundos:\\t\",time.second)\n",
    "print(\"Microssegundos:\\t\", time.microsecond)\n",
    "print()\n",
    "\n",
    "# printa dos valores atuais\n",
    "hoje = datetime.date.today()\n",
    "print(hoje)\n",
    "print(\"ctime:\\t\", hoje.ctime())\n",
    "print(\"Ano:\\t\", hoje.year)\n",
    "print(\"Mês:\\t\", hoje.month)\n",
    "print(\"Dia:\\t\", hoje.day)\n",
    "print()\n",
    "\n",
    "# calculando com datas\n",
    "dia1 = datetime.date(2015,4,28)\n",
    "dia2 = dia1.replace(year=2022)        # REPLACE - subsittui um elemento da lista\n",
    "print(dia2,'\\n',dia1)\n",
    "print(dia2 - dia1)                   # operação de quantos dias há de diferença entre elas\n"
   ]
  },
  {
   "cell_type": "code",
   "execution_count": 64,
   "metadata": {},
   "outputs": [
    {
     "name": "stdout",
     "output_type": "stream",
     "text": [
      "[30.2, 32.0, 33.8]\n",
      "[-18.333333333333336, -17.77777777777778, -17.22222222222222]\n",
      "\n",
      "30.2\n",
      "32.0\n",
      "33.8\n"
     ]
    },
    {
     "data": {
      "text/plain": [
       "[-1, 0, -6]"
      ]
     },
     "execution_count": 64,
     "metadata": {},
     "output_type": "execute_result"
    }
   ],
   "source": [
    "# FUNÇÃO MAP - recebe 2 argumentos, uma função e outra a sequencia de iteração a ser feita, ela calcula com a funcao os valores da sequencia e armazena em uma lista, retornando seus resultados\n",
    "\n",
    "def farhenheit(T):\n",
    "    return ((float(9)/5)*T + 32)\n",
    "\n",
    "def celsius(R):\n",
    "    return (float(5)/9)*(R-32)\n",
    "\n",
    "temperatura = [-1,0,1]\n",
    "\n",
    "# map(farhenheit, temperatura)           # funcao que retorna ao ITERADOR, precisando que seja convertida para uma lista os resultados\n",
    "print(list(map(farhenheit, temperatura)))       # apresentação da lista\n",
    "print(list(map(celsius, temperatura)))\n",
    "print()\n",
    "\n",
    "# impressão dos valores dos elementos pela função for\n",
    "for temp in map(farhenheit, temperatura):\n",
    "    print(temp)\n",
    "    \n",
    "# uso de FUNCAO ANONIMA com lambda\n",
    "list(map(lambda x: (5.0/9)*(x-32), temperatura))\n",
    "\n",
    "a = [1,2,3]\n",
    "b = [-1,0,-2]\n",
    "list(map(lambda x,y: x*y, a, b))      # podemos fazer com n numeros para lambda com o resultado sendo uma lista/sequencia de elementos\n"
   ]
  },
  {
   "cell_type": "code",
   "execution_count": 72,
   "metadata": {},
   "outputs": [
    {
     "name": "stdout",
     "output_type": "stream",
     "text": [
      "6 \n",
      "\n",
      "6 \n",
      "\n",
      "3 \n",
      "\n"
     ]
    }
   ],
   "source": [
    "# FUNÇAÕ REDUCE - recebe dois argumentos: uma função e uma sequência - aplica a função aos elementos da sequencia até que reste o ultimo elemento\n",
    "# precisamos importá-la atraves do pacote \"functools\"\n",
    "\n",
    "from functools import reduce\n",
    "\n",
    "lista = [1,2,3]\n",
    "\n",
    "# soma de elementos da lista\n",
    "def soma(a,b):\n",
    "    return a+b\n",
    "print(reduce(soma, lista),'\\n')\n",
    "print(reduce(lambda x,y: x+y, lista),'\\n')\n",
    "\n",
    "# maior elemento da lista\n",
    "maior_elemento = lambda a,b: a if(a>b) else b\n",
    "print(reduce(maior_elemento, lista),'\\n')\n"
   ]
  },
  {
   "cell_type": "code",
   "execution_count": 94,
   "metadata": {},
   "outputs": [
    {
     "name": "stdout",
     "output_type": "stream",
     "text": [
      "[2, 6, 3, 9, 5, 0, 8, 7, 1, 4]\n",
      "<filter object at 0x0000000005A39128>\n",
      "[2, 6, 0, 8, 4]\n"
     ]
    }
   ],
   "source": [
    "# FUNÇÃO FILTER - função com dois argumentos e uma sequencia, funciona a fim de filtrar elementos  e retorna a valores booleanos (true or false) - aplicados  a valores de uma lista e retorna somente valores que sao considerados verdadeiros\n",
    "\n",
    "numero = lambda x: bool(1) if x%2 == 0 else bool(0)\n",
    "lista = random.sample(range(10), 10)\n",
    "print(lista)\n",
    "print(filter(numero, lista))       # retorna somente ao iterator\n",
    "print(list(filter(numero, lista)))  # retorna somente os valores pares da lista\n"
   ]
  },
  {
   "cell_type": "code",
   "execution_count": null,
   "metadata": {
    "collapsed": true
   },
   "outputs": [],
   "source": []
  }
 ],
 "metadata": {
  "kernelspec": {
   "display_name": "Python 3",
   "language": "python",
   "name": "python3"
  },
  "language_info": {
   "codemirror_mode": {
    "name": "ipython",
    "version": 3
   },
   "file_extension": ".py",
   "mimetype": "text/x-python",
   "name": "python",
   "nbconvert_exporter": "python",
   "pygments_lexer": "ipython3",
   "version": "3.6.2"
  }
 },
 "nbformat": 4,
 "nbformat_minor": 2
}
