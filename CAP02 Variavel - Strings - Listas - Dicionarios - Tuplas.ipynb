{
 "cells": [
  {
   "cell_type": "markdown",
   "metadata": {},
   "source": [
    "# Numeros e Operações Matematicas"
   ]
  },
  {
   "cell_type": "code",
   "execution_count": 39,
   "metadata": {},
   "outputs": [
    {
     "name": "stdout",
     "output_type": "stream",
     "text": [
      "5\n",
      "-1\n",
      "6\n",
      "0.6666666666666666\n",
      "2\n",
      "1\n",
      "8\n",
      "2.0\n"
     ]
    },
    {
     "data": {
      "text/plain": [
       "float"
      ]
     },
     "execution_count": 39,
     "metadata": {},
     "output_type": "execute_result"
    }
   ],
   "source": [
    "a = 2        \n",
    "b = 3\n",
    "\n",
    "print(a+b)   #soma\n",
    "print(a-b)\n",
    "print(a*b)\n",
    "print(a/b)   \n",
    "print(a%b)   #modulo\n",
    "print(a//2)\n",
    "print(a**b)\n",
    "print(float(a))\n",
    "type(float(a))"
   ]
  },
  {
   "cell_type": "code",
   "execution_count": 2,
   "metadata": {},
   "outputs": [
    {
     "name": "stdout",
     "output_type": "stream",
     "text": [
      "1\n",
      "2\n",
      "2\n",
      "3\n"
     ]
    }
   ],
   "source": [
    "# Operações Relacionais\n",
    "c=1\n",
    "d=2\n",
    "\n",
    "if(a==d):\n",
    "    print(c)\n",
    "if(a!=c):\n",
    "    print(a)\n",
    "if(d>c):\n",
    "    print(d)\n",
    "if(a<=b):\n",
    "    print(b)"
   ]
  },
  {
   "cell_type": "code",
   "execution_count": 3,
   "metadata": {},
   "outputs": [
    {
     "name": "stdout",
     "output_type": "stream",
     "text": [
      "1.0\n",
      "6\n",
      "0xf\n",
      "0b1010\n",
      "8\n",
      "3\n",
      "2\n"
     ]
    }
   ],
   "source": [
    "#Conversão\n",
    "\n",
    "print(float(1))\n",
    "print(int(6.5555))\n",
    "print(hex(15))\n",
    "print(bin(10))\n",
    "print(abs(-8))       # absoluto\n",
    "print(round(3.14))   # arredondamento \n",
    "print(pow(a,c))      # potencia"
   ]
  },
  {
   "cell_type": "code",
   "execution_count": 4,
   "metadata": {},
   "outputs": [
    {
     "name": "stdout",
     "output_type": "stream",
     "text": [
      "3\n",
      "2\n",
      "0\n",
      "1.0\n",
      "\n",
      "\n",
      "3\n",
      "4\n",
      "0\n",
      "1.0\n"
     ]
    }
   ],
   "source": [
    "# Operadores de Atribuição\n",
    "a+=1\n",
    "b-=1\n",
    "c*=0\n",
    "d/=2\n",
    "print(a)\n",
    "print(b)\n",
    "print(c)\n",
    "print(d)\n",
    "print(\"\\n\")\n",
    "a%=5\n",
    "b**=2\n",
    "c//=1\n",
    "print(a)\n",
    "print(b)\n",
    "print(c)\n",
    "print(d)"
   ]
  },
  {
   "cell_type": "code",
   "execution_count": 5,
   "metadata": {
    "collapsed": true
   },
   "outputs": [],
   "source": [
    "# Operadores Lógicos\n",
    "# AND - OR - NOT}"
   ]
  },
  {
   "cell_type": "code",
   "execution_count": 6,
   "metadata": {},
   "outputs": [
    {
     "name": "stdout",
     "output_type": "stream",
     "text": [
      "Ana Bia Carlos\n",
      "morango morango\n"
     ]
    }
   ],
   "source": [
    "# Declarações Multiplas\n",
    "\n",
    "cara1, cara2, cara3 = \"Ana\", \"Bia\", \"Carlos\"\n",
    "print(cara1, cara2, cara3)\n",
    "fruta1 = fruta2 = \"morango\"\n",
    "print(fruta1, fruta2)"
   ]
  },
  {
   "cell_type": "code",
   "execution_count": 7,
   "metadata": {},
   "outputs": [
    {
     "name": "stdout",
     "output_type": "stream",
     "text": [
      "Steve Rogers\n"
     ]
    }
   ],
   "source": [
    "# Concatenação de variáveis\n",
    "nome = \"Steve\"\n",
    "sobrenome = \"Rogers\"\n",
    "nome_completo = nome + \" \" + sobrenome\n",
    "print(nome_completo)"
   ]
  },
  {
   "cell_type": "code",
   "execution_count": 8,
   "metadata": {},
   "outputs": [
    {
     "name": "stdout",
     "output_type": "stream",
     "text": [
      "Testando variáveis\n",
      "Steve Rogers\n",
      "R\n",
      "teve Rogers\n",
      "SeeRgr\n",
      "sregoR evetS\n"
     ]
    }
   ],
   "source": [
    "# STRINGS\n",
    "print(\"Testando variáveis\")\n",
    "\n",
    "s = \"Steve Rogers\"\n",
    "print(s)\n",
    "print(s[6])\n",
    "print(s[1:12])\n",
    "print(s[::2])\n",
    "print(s[::-1])"
   ]
  },
  {
   "cell_type": "code",
   "execution_count": 9,
   "metadata": {},
   "outputs": [
    {
     "name": "stdout",
     "output_type": "stream",
     "text": [
      "STEVE ROGERS\n",
      "steve rogers\n",
      "['Steve', 'Rogers']\n",
      "Steve rogers\n",
      "1\n",
      "0\n",
      "Steve Rogers\n",
      "False\n",
      "True\n",
      "False\n",
      "True\n",
      " \n",
      "False\n",
      "True\n"
     ]
    }
   ],
   "source": [
    "# Funções BUILT-In de Strings\n",
    "print(s.upper())      # maiusculas\n",
    "print(s.lower())      # minusculas\n",
    "print(s.split())      # separar pelos espaços\n",
    "print(s.capitalize()) # primeira letra maiusculas\n",
    "print(s.count('s'))   # contar numero de s\n",
    "print(s.find('S'))    # contar numero de S (maiusculo)\n",
    "print(s)\n",
    "print(s.islower())    # tudo minusculo\n",
    "s = s.upper()\n",
    "print(s.isupper())    # tudo maiusculo\n",
    "print(s.isspace())    # somente espaços\n",
    "print(s.endswith('S')) #termina com determinada letra\n",
    "\n",
    "# Comparando Strings\n",
    "print(\" \")\n",
    "print(\"Python\" == \"R\") # Comparação de Strings\n",
    "print(s[0] == 'S')     # Comparação de Strings"
   ]
  },
  {
   "cell_type": "code",
   "execution_count": 10,
   "metadata": {},
   "outputs": [
    {
     "name": "stdout",
     "output_type": "stream",
     "text": [
      "['amanda', 'bia', 'cesar']\n",
      "amanda\n",
      "amanda bia cesar\n",
      "['amanda', 'bia', 'DANIEL']\n",
      "['bia', 'DANIEL']\n"
     ]
    }
   ],
   "source": [
    "# LISTAS\n",
    "lista1 = ['amanda', 'bia', 'cesar']\n",
    "print(lista1)\n",
    "print(lista1[0])\n",
    "\n",
    "item1 = lista1[0]\n",
    "item2 = lista1[1]\n",
    "item3 = lista1[2]\n",
    "print(item1, item2, item3)\n",
    "\n",
    "lista1[2] = 'DANIEL'\n",
    "print(lista1)\n",
    "\n",
    "del lista1[0]\n",
    "print(lista1)"
   ]
  },
  {
   "cell_type": "code",
   "execution_count": 11,
   "metadata": {},
   "outputs": [
    {
     "name": "stdout",
     "output_type": "stream",
     "text": [
      "[['a', 'b', 'c'], ['1', '2'], ['amanda', 'bia', 'camila']]\n",
      "c\n",
      "bia\n",
      " \n",
      "['bia', 'DANIEL', ['a', 'b', 'c'], ['1', '2'], ['amanda', 'bia', 'camila']]\n",
      " \n",
      "True\n"
     ]
    }
   ],
   "source": [
    "# Listas Aninhadas\n",
    "\n",
    "lista2 = [['a','b', 'c'], ['1', '2'], ['amanda', 'bia', 'camila']]\n",
    "print(lista2)\n",
    "print(lista2[0][2])         # Seleciona um elemento da lista aninhada\n",
    "print(lista2[2][1])\n",
    "print(\" \")\n",
    "\n",
    "lista3 = lista1 + lista2    # Soma das listas\n",
    "print(lista3)\n",
    "print(\" \")\n",
    "\n",
    "lista4 = [1, 2]             # Verifica se há um elemento especifico na lista\n",
    "print(1 in lista4)    "
   ]
  },
  {
   "cell_type": "code",
   "execution_count": 14,
   "metadata": {},
   "outputs": [
    {
     "name": "stdout",
     "output_type": "stream",
     "text": [
      "<class 'list'>\n",
      "1\n",
      "['ana', 'ana', 1, 2, '4', '4']\n",
      "3\n",
      "['ana', 'ana', 'ana', 1, 2, '4']\n",
      "['ana', 'ana', 'ana', 1, 2, '4']\n"
     ]
    }
   ],
   "source": [
    "# Operadores Built-In\n",
    "\n",
    "print(type(lista3))\n",
    "len(lista3)               # Apresenta numero de elementos da lista\n",
    "print(lista4.count('4'))  # Conta numero de elementos de uma lista\n",
    "lista4.append('4')        # Adiciona elemento em uma lista\n",
    "print(lista4)\n",
    "\n",
    "print(lista4.index(2))    # Indexação, posição do numero na lista\n",
    "lista4.insert(0, 'ana')   # Insere um elemento em posição específica\n",
    "\n",
    "lista4.remove('4')        # Remove primeiro elemento especifico\n",
    "print(lista4)\n",
    "\n",
    "lista4.reverse\n",
    "print(lista4)\n"
   ]
  },
  {
   "cell_type": "code",
   "execution_count": null,
   "metadata": {
    "collapsed": true
   },
   "outputs": [],
   "source": [
    "max(lista4)     # Apresenta maior elemento, EXCETO para listas aninhadas\n",
    "min(lista4)     # Apresenta menor elemento\n",
    "\n",
    "lista4.extend['camila', 'zé trovão']  # NÃO FUNCIONA!\n",
    "print(lista4)"
   ]
  },
  {
   "cell_type": "code",
   "execution_count": 32,
   "metadata": {},
   "outputs": [
    {
     "name": "stdout",
     "output_type": "stream",
     "text": [
      "4\n",
      "dict_keys(['Ana', 'Bruno', 'Carlos', 'Danilo'])\n",
      "dict_values([0, 1, 2, 3])\n",
      "dict_items([('Ana', 0), ('Bruno', 1), ('Carlos', 2), ('Danilo', 3)])\n",
      "{'Ana': 0, 'Bruno': 1, 'Carlos': 2, 'Danilo': 3, 'well': 'a', 'normal': 'b', 'bad': 'c'}\n",
      "{}\n",
      "{'ana': 0.6, 0.1: 'Python'}\n",
      "0.6\n",
      "A\n",
      "ba\n"
     ]
    }
   ],
   "source": [
    "# DICIONÁRIOS\n",
    "\n",
    "estudantes = {\"Ana\":0, \"Bruno\":1, \"Carlos\":2, \"Danilo\":3}\n",
    "\n",
    "print(len(estudantes))     # Numero de elementos do dicionario \n",
    "print(estudantes.keys())   # Apresenta as chaves\n",
    "print(estudantes.values()) # Apresenta os valores\n",
    "print(estudantes.items())  # Apresenta os itens\n",
    "\n",
    "dicionario1 = {'well': 'a', 'normal': 'b', 'bad': 'c'}\n",
    "estudantes.update(dicionario1)\n",
    "print(estudantes)\n",
    "\n",
    "dicionario2 = {}\n",
    "print(dicionario2)\n",
    "dicionario2['ana'] = 0.6    # Atribui valor para chave\n",
    "dicionario2[0.1] = \"Python\"\n",
    "print(dicionario2) \n",
    "D1 = dicionario2['ana']     # Atribui variavel para chave\n",
    "print(D1)\n",
    "\n",
    "dicionario3 = {'chave1': 'ana', 'chave2': 'BIA', 'chave3': 'mae', 'chave4': 'daniel'}\n",
    "print(dicionario3['chave1'][0].upper())     # Seleciona o caracter no item na chave 1\n",
    "print(dicionario3['chave2'][::2].lower())     # Seleciona o caracter no item na chave 1"
   ]
  },
  {
   "cell_type": "code",
   "execution_count": 34,
   "metadata": {},
   "outputs": [
    {
     "name": "stdout",
     "output_type": "stream",
     "text": [
      "{'chave1_aninhada1': 0, 'chave1_aninhada2': 1}\n"
     ]
    }
   ],
   "source": [
    "# Dicionarios Aninhados\n",
    "\n",
    "dicionario4 = {'chave1': {'chave1_aninhada1': 0, 'chave1_aninhada2': 1}, 'chave2':{'chave2_aninhada1':'ana', 'chave2_aninhada2':'bia'}}\n",
    "print(dicionario4['chave1'])"
   ]
  },
  {
   "cell_type": "code",
   "execution_count": 17,
   "metadata": {},
   "outputs": [
    {
     "name": "stdout",
     "output_type": "stream",
     "text": [
      "('ana', 'Biatriz', 14)\n",
      "3\n",
      "('Biatriz', 14)\n",
      " \n",
      "['ana', 'bia', 'carlos', 'daniel']\n",
      "('ana', 'bia', 'carlos', 'daniel')\n"
     ]
    }
   ],
   "source": [
    "# Tuplas\n",
    "\n",
    "tupla1 = (\"ana\", 'Biatriz', 14)\n",
    "print(tupla1)\n",
    "print(len(tupla1))\n",
    "print(tupla1[1:])\n",
    "del tupla1\n",
    "print(\" \")\n",
    "\n",
    "lista5 = ['ana', 'bia', 'carlos', 'daniel']\n",
    "print(lista5)\n",
    "tupla2 = tuple(lista5)\n",
    "print(tupla2)"
   ]
  },
  {
   "cell_type": "code",
   "execution_count": null,
   "metadata": {
    "collapsed": true
   },
   "outputs": [],
   "source": []
  },
  {
   "cell_type": "markdown",
   "metadata": {},
   "source": [
    "# LISTA EXERCICIOS Q2"
   ]
  },
  {
   "cell_type": "code",
   "execution_count": 12,
   "metadata": {},
   "outputs": [
    {
     "name": "stdout",
     "output_type": "stream",
     "text": [
      "[1, 2, 3, 4, 5, 6, 7, 8, 9, 10]\n"
     ]
    }
   ],
   "source": [
    "# Exercício 1 - Imprima na tela os números de 1 a 10. Use uma lista para armazenar os números.\n",
    "lista1_q2 = [1, 2, 3, 4, 5, 6, 7, 8, 9, 10]\n",
    "print(lista1_q2)"
   ]
  },
  {
   "cell_type": "code",
   "execution_count": 13,
   "metadata": {},
   "outputs": [
    {
     "name": "stdout",
     "output_type": "stream",
     "text": [
      "['objeto1', 'objeto2', 'objeto3', 'objeto4', 'objeto5']\n"
     ]
    }
   ],
   "source": [
    "# Exercício 2 - Crie uma lista de 5 objetos e imprima na tela\n",
    "lista2_q2 = ['objeto1', 'objeto2', 'objeto3', 'objeto4', 'objeto5']\n",
    "print(lista2_q2)"
   ]
  },
  {
   "cell_type": "code",
   "execution_count": 15,
   "metadata": {},
   "outputs": [
    {
     "name": "stdout",
     "output_type": "stream",
     "text": [
      "Olá Mundo\n"
     ]
    }
   ],
   "source": [
    "# Exercício 3 - Crie duas strings e concatene as duas em uma terceira string\n",
    "string1_q2 = 'Olá'\n",
    "string2_q2 = ' Mundo'\n",
    "string3_q2 = string1_q2 + string2_q2 \n",
    "print(string3_q2)"
   ]
  },
  {
   "cell_type": "code",
   "execution_count": 19,
   "metadata": {},
   "outputs": [
    {
     "name": "stdout",
     "output_type": "stream",
     "text": [
      "3\n"
     ]
    }
   ],
   "source": [
    "# Exercício 4 - Crie uma tupla com os seguintes elementos: 1, 2, 2, 3, 4, 4, 4, 5 e depois utilize a função count do \n",
    "# objeto tupla para verificar quantas vezes o número 4 aparece na tupla\n",
    "\n",
    "tupla1_q2 = (1, 2, 2, 3, 4, 4, 4, 5)\n",
    "print(tupla1_q2.count(4))"
   ]
  },
  {
   "cell_type": "code",
   "execution_count": 21,
   "metadata": {},
   "outputs": [
    {
     "name": "stdout",
     "output_type": "stream",
     "text": [
      "{}\n"
     ]
    }
   ],
   "source": [
    "# Exercício 5 - Crie um dicionário vazio e imprima na tela\n",
    "dicionario1_q2 = {}\n",
    "print(dicionario1_q2)"
   ]
  },
  {
   "cell_type": "code",
   "execution_count": 22,
   "metadata": {},
   "outputs": [
    {
     "name": "stdout",
     "output_type": "stream",
     "text": [
      "{'valor1': 1, 'valor2': 2, 'valor3': 3}\n"
     ]
    }
   ],
   "source": [
    "# Exercício 6 - Crie um dicionário com 3 chaves e 3 valores e imprima na tela\n",
    "dicionario2_q2 = {'valor1':1, 'valor2':2, 'valor3':3}\n",
    "print(dicionario2_q2)"
   ]
  },
  {
   "cell_type": "code",
   "execution_count": 28,
   "metadata": {},
   "outputs": [
    {
     "name": "stdout",
     "output_type": "stream",
     "text": [
      "{'valor1': 1, 'valor2': 2, 'valor3': 3, 'Ana': 5}\n"
     ]
    }
   ],
   "source": [
    "# Exercício 7 - Adicione mais um elemento ao dicionário criado no exercício anterior e imprima na tela\n",
    "dicionario2_q2['Ana'] = 5\n",
    "print(dicionario2_q2)"
   ]
  },
  {
   "cell_type": "code",
   "execution_count": 29,
   "metadata": {},
   "outputs": [
    {
     "name": "stdout",
     "output_type": "stream",
     "text": [
      "{'elemento1': {'chavel': 1, 'chave2': 2}, 'elemento2': 'ana', 'elemento3': 'Bruno'}\n"
     ]
    }
   ],
   "source": [
    "# Exercício 8 - Crie um dicionário com 3 chaves e 3 valores. Um dos valores deve ser uma lista de 2 elementos numéricos. \n",
    "# Imprima o dicionário na tela.\n",
    "dicionario3_q2 = {'elemento1':{'chavel':1, 'chave2':2}, 'elemento2':'ana', 'elemento3':'Bruno'}\n",
    "print(dicionario3_q2)"
   ]
  },
  {
   "cell_type": "code",
   "execution_count": 31,
   "metadata": {},
   "outputs": [
    {
     "name": "stdout",
     "output_type": "stream",
     "text": [
      "['Hello World', ('ana', 'bia'), {'X': 0, 'Y': 1}, 4.95]\n"
     ]
    }
   ],
   "source": [
    "# Exercício 9 - Crie uma lista de 4 elementos. O primeiro elemento deve ser uma string, \n",
    "# o segundo uma tupla de 2 elementos, o terceiro um dcionário com 2 chaves e 2 valores e \n",
    "# o quarto elemento um valor do tipo float.\n",
    "# Imprima a lista na tela.\n",
    "tupla_exe9 = ('ana', 'bia')\n",
    "dicionario_exe9 = {'X': 0, 'Y': 1}\n",
    "lista3_q2 = [\"Hello World\", tupla_exe9, dicionario_exe9, 4.95]\n",
    "print(lista3_q2)"
   ]
  },
  {
   "cell_type": "code",
   "execution_count": 33,
   "metadata": {},
   "outputs": [
    {
     "name": "stdout",
     "output_type": "stream",
     "text": [
      "Cientista de Dado\n"
     ]
    }
   ],
   "source": [
    "# Exercício 10 - Considere a string abaixo. Imprima na tela apenas os caracteres da posição 1 a 18.\n",
    "frase = 'Cientista de Dados é o profissional mais sexy do século XXI'\n",
    "print(frase[0:17])\n"
   ]
  },
  {
   "cell_type": "code",
   "execution_count": null,
   "metadata": {
    "collapsed": true
   },
   "outputs": [],
   "source": []
  },
  {
   "cell_type": "markdown",
   "metadata": {},
   "source": [
    "# LEMBRE-SE"
   ]
  },
  {
   "cell_type": "code",
   "execution_count": null,
   "metadata": {
    "collapsed": true
   },
   "outputs": [],
   "source": [
    "# TUPLAS: uso de PARENTESES\n",
    "# LISTAS: uso de CONCHETES\n",
    "# DICIONARIOS: uso de CHAVES"
   ]
  }
 ],
 "metadata": {
  "kernelspec": {
   "display_name": "Python 3",
   "language": "python",
   "name": "python3"
  },
  "language_info": {
   "codemirror_mode": {
    "name": "ipython",
    "version": 3
   },
   "file_extension": ".py",
   "mimetype": "text/x-python",
   "name": "python",
   "nbconvert_exporter": "python",
   "pygments_lexer": "ipython3",
   "version": "3.6.2"
  }
 },
 "nbformat": 4,
 "nbformat_minor": 2
}
