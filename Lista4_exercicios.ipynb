{
 "cells": [
  {
   "cell_type": "code",
   "execution_count": 1,
   "metadata": {},
   "outputs": [
    {
     "data": {
      "text/plain": [
       "'\\nData Science Academy - Python Fundamentos - Capítulo 4\\nDownload: http://github.com/dsacademybr\\n\\n# Versão da Linguagem Python\\nfrom platform import python_version\\nprint(\\'Versão da Linguagem Python Usada Neste Jupyter Notebook:\\', python_version())\\nVersão da Linguagem Python Usada Neste Jupyter Notebook: 3.8.8\\nExercícios\\n\\n\\n# Exercício 1 - Crie uma lista de 3 elementos e calcule a terceira potência de cada elemento.\\n\\n\\n# Exercício 2 - Reescreva o código abaixo, usando a função map(). O resultado final deve ser o mesmo!\\npalavras = \\'A Data Science Academy oferce os melhores cursos de análise de dados do Brasil\\'.split()\\nresultado = [[w.upper(), w.lower(), len(w)] for w in palavras]\\nfor i in resultado:\\n    print (i)\\n[\\'A\\', \\'a\\', 1]\\n[\\'DATA\\', \\'data\\', 4]\\n[\\'SCIENCE\\', \\'science\\', 7]\\n[\\'ACADEMY\\', \\'academy\\', 7]\\n[\\'OFERCE\\', \\'oferce\\', 6]\\n[\\'OS\\', \\'os\\', 2]\\n[\\'MELHORES\\', \\'melhores\\', 8]\\n[\\'CURSOS\\', \\'cursos\\', 6]\\n[\\'DE\\', \\'de\\', 2]\\n[\\'ANÁLISE\\', \\'análise\\', 7]\\n[\\'DE\\', \\'de\\', 2]\\n[\\'DADOS\\', \\'dados\\', 5]\\n[\\'DO\\', \\'do\\', 2]\\n[\\'BRASIL\\', \\'brasil\\', 6]\\n\\n\\n# Exercício 3 - Calcule a matriz transposta da matriz abaixo.\\n# Caso não saiba o que é matriz transposta, visite este link: https://pt.wikipedia.org/wiki/Matriz_transposta\\n# Matriz transposta é um conceito fundamental na construção de redes neurais artificiais, base de sistemas de IA.\\nmatrix = [[1, 2],[3,4],[5,6],[7,8]]\\n\\n\\n# Exercício 4 - Crie duas funções, uma para elevar um número ao quadrado e outra para elevar ao cubo. \\n# Aplique as duas funções aos elementos da lista abaixo. \\n# Obs: as duas funções devem ser aplicadas simultaneamente.\\nlista = [0, 1, 2, 3, 4]\\n\\n\\n# Exercício 5 - Abaixo você encontra duas listas. Faça com que cada elemento da listaA seja elevado \\n# ao elemento correspondente na listaB.\\nlistaA = [2, 3, 4]\\nlistaB = [10, 11, 12]\\n\\n\\n# Exercício 6 - Considerando o range de valores abaixo, use a função filter() para retornar apenas os valores negativos.\\nrange(-5, 5)\\nrange(-5, 5)\\n\\n\\n# Exercício 7 - Usando a função filter(), encontre os valores que são comuns às duas listas abaixo.\\na = [1,2,3,5,7,9]\\nb = [2,3,5,6,7,8]\\n\\n\\n# Exercício 8 - Considere o código abaixo. Obtenha o mesmo resultado usando o pacote time. \\n# Não conhece o pacote time? Pesquise!\\nimport datetime\\nprint (datetime.datetime.now().strftime(\"%d/%m/%Y %H:%M\"))\\n05/07/2021 12:13\\n\\n\\n# Exercício 9 - Considere os dois dicionários abaixo. \\n# Crie um terceiro dicionário com as chaves do dicionário 1 e os valores do dicionário 2.\\ndict1 = {\\'a\\':1,\\'b\\':2}\\ndict2 = {\\'c\\':4,\\'d\\':5}\\n\\n\\n# Exercício 10 - Considere a lista abaixo e retorne apenas os elementos cujo índice for maior que 5.\\nlista = [\\'a\\', \\'b\\', \\'c\\', \\'d\\', \\'e\\', \\'f\\', \\'g\\', \\'h\\']\\n\\n\\nFim\\nObrigado\\nVisite o Blog da Data Science Academy - Blog DSA\\n\\n'"
      ]
     },
     "execution_count": 1,
     "metadata": {},
     "output_type": "execute_result"
    }
   ],
   "source": [
    "'''\n",
    "Data Science Academy - Python Fundamentos - Capítulo 4\n",
    "Download: http://github.com/dsacademybr\n",
    "\n",
    "# Versão da Linguagem Python\n",
    "from platform import python_version\n",
    "print('Versão da Linguagem Python Usada Neste Jupyter Notebook:', python_version())\n",
    "Versão da Linguagem Python Usada Neste Jupyter Notebook: 3.8.8\n",
    "Exercícios\n",
    "\n",
    "\n",
    "# Exercício 1 - Crie uma lista de 3 elementos e calcule a terceira potência de cada elemento.\n",
    "\n",
    "\n",
    "# Exercício 2 - Reescreva o código abaixo, usando a função map(). O resultado final deve ser o mesmo!\n",
    "palavras = 'A Data Science Academy oferce os melhores cursos de análise de dados do Brasil'.split()\n",
    "resultado = [[w.upper(), w.lower(), len(w)] for w in palavras]\n",
    "for i in resultado:\n",
    "    print (i)\n",
    "['A', 'a', 1]\n",
    "['DATA', 'data', 4]\n",
    "['SCIENCE', 'science', 7]\n",
    "['ACADEMY', 'academy', 7]\n",
    "['OFERCE', 'oferce', 6]\n",
    "['OS', 'os', 2]\n",
    "['MELHORES', 'melhores', 8]\n",
    "['CURSOS', 'cursos', 6]\n",
    "['DE', 'de', 2]\n",
    "['ANÁLISE', 'análise', 7]\n",
    "['DE', 'de', 2]\n",
    "['DADOS', 'dados', 5]\n",
    "['DO', 'do', 2]\n",
    "['BRASIL', 'brasil', 6]\n",
    "\n",
    "\n",
    "# Exercício 3 - Calcule a matriz transposta da matriz abaixo.\n",
    "# Caso não saiba o que é matriz transposta, visite este link: https://pt.wikipedia.org/wiki/Matriz_transposta\n",
    "# Matriz transposta é um conceito fundamental na construção de redes neurais artificiais, base de sistemas de IA.\n",
    "matrix = [[1, 2],[3,4],[5,6],[7,8]]\n",
    "\n",
    "\n",
    "# Exercício 4 - Crie duas funções, uma para elevar um número ao quadrado e outra para elevar ao cubo. \n",
    "# Aplique as duas funções aos elementos da lista abaixo. \n",
    "# Obs: as duas funções devem ser aplicadas simultaneamente.\n",
    "lista = [0, 1, 2, 3, 4]\n",
    "\n",
    "\n",
    "# Exercício 5 - Abaixo você encontra duas listas. Faça com que cada elemento da listaA seja elevado \n",
    "# ao elemento correspondente na listaB.\n",
    "listaA = [2, 3, 4]\n",
    "listaB = [10, 11, 12]\n",
    "\n",
    "\n",
    "# Exercício 6 - Considerando o range de valores abaixo, use a função filter() para retornar apenas os valores negativos.\n",
    "range(-5, 5)\n",
    "range(-5, 5)\n",
    "\n",
    "\n",
    "# Exercício 7 - Usando a função filter(), encontre os valores que são comuns às duas listas abaixo.\n",
    "a = [1,2,3,5,7,9]\n",
    "b = [2,3,5,6,7,8]\n",
    "\n",
    "\n",
    "# Exercício 8 - Considere o código abaixo. Obtenha o mesmo resultado usando o pacote time. \n",
    "# Não conhece o pacote time? Pesquise!\n",
    "import datetime\n",
    "print (datetime.datetime.now().strftime(\"%d/%m/%Y %H:%M\"))\n",
    "05/07/2021 12:13\n",
    "\n",
    "\n",
    "# Exercício 9 - Considere os dois dicionários abaixo. \n",
    "# Crie um terceiro dicionário com as chaves do dicionário 1 e os valores do dicionário 2.\n",
    "dict1 = {'a':1,'b':2}\n",
    "dict2 = {'c':4,'d':5}\n",
    "\n",
    "\n",
    "# Exercício 10 - Considere a lista abaixo e retorne apenas os elementos cujo índice for maior que 5.\n",
    "lista = ['a', 'b', 'c', 'd', 'e', 'f', 'g', 'h']\n",
    "\n",
    "\n",
    "Fim\n",
    "Obrigado\n",
    "Visite o Blog da Data Science Academy - Blog DSA\n",
    "\n",
    "'''"
   ]
  },
  {
   "cell_type": "code",
   "execution_count": 14,
   "metadata": {},
   "outputs": [
    {
     "name": "stdout",
     "output_type": "stream",
     "text": [
      "[1, -8, 27]\n"
     ]
    }
   ],
   "source": [
    "# Exercício 1 - Crie uma lista de 3 elementos e calcule a terceira potência de cada elemento.\n",
    "\n",
    "lista1 = [1,-2,3]\n",
    "lista1_resultado = []\n",
    "for i in range(len(lista1)):\n",
    "    x = lista1[i]**3\n",
    "    lista1_resultado.append(x)\n",
    "print(lista1_resultado)\n"
   ]
  },
  {
   "cell_type": "code",
   "execution_count": 25,
   "metadata": {},
   "outputs": [
    {
     "name": "stdout",
     "output_type": "stream",
     "text": [
      "['A', 'a', 1]\n",
      "['DATA', 'data', 4]\n",
      "['SCIENCE', 'science', 7]\n",
      "['ACADEMY', 'academy', 7]\n",
      "['OFERCE', 'oferce', 6]\n",
      "['OS', 'os', 2]\n",
      "['MELHORES', 'melhores', 8]\n",
      "['CURSOS', 'cursos', 6]\n",
      "['DE', 'de', 2]\n",
      "['ANÁLISE', 'análise', 7]\n",
      "['DE', 'de', 2]\n",
      "['DADOS', 'dados', 5]\n",
      "['DO', 'do', 2]\n",
      "['BRASIL', 'brasil', 6]\n",
      "\n"
     ]
    },
    {
     "ename": "AttributeError",
     "evalue": "'list' object has no attribute 'upper'",
     "output_type": "error",
     "traceback": [
      "\u001b[1;31m---------------------------------------------------------------------------\u001b[0m",
      "\u001b[1;31mAttributeError\u001b[0m                            Traceback (most recent call last)",
      "\u001b[1;32m<ipython-input-25-4eb3277401ce>\u001b[0m in \u001b[0;36m<module>\u001b[1;34m()\u001b[0m\n\u001b[0;32m     20\u001b[0m     \u001b[1;32mreturn\u001b[0m \u001b[0mlista\u001b[0m\u001b[1;33m\u001b[0m\u001b[0m\n\u001b[0;32m     21\u001b[0m \u001b[1;33m\u001b[0m\u001b[0m\n\u001b[1;32m---> 22\u001b[1;33m \u001b[0mx\u001b[0m \u001b[1;33m=\u001b[0m \u001b[0miteracao\u001b[0m\u001b[1;33m(\u001b[0m\u001b[0mpalavras\u001b[0m\u001b[1;33m)\u001b[0m\u001b[1;33m\u001b[0m\u001b[0m\n\u001b[0m",
      "\u001b[1;32m<ipython-input-25-4eb3277401ce>\u001b[0m in \u001b[0;36miteracao\u001b[1;34m(item)\u001b[0m\n\u001b[0;32m     17\u001b[0m     \u001b[0mlista\u001b[0m \u001b[1;33m=\u001b[0m \u001b[1;33m[\u001b[0m\u001b[1;33m]\u001b[0m\u001b[1;33m\u001b[0m\u001b[0m\n\u001b[0;32m     18\u001b[0m     \u001b[1;32mwhile\u001b[0m\u001b[1;33m(\u001b[0m\u001b[0mcount\u001b[0m \u001b[1;33m!=\u001b[0m \u001b[0mlen\u001b[0m\u001b[1;33m(\u001b[0m\u001b[0mitem\u001b[0m\u001b[1;33m)\u001b[0m\u001b[1;33m+\u001b[0m\u001b[1;36m1\u001b[0m\u001b[1;33m)\u001b[0m\u001b[1;33m:\u001b[0m\u001b[1;33m\u001b[0m\u001b[0m\n\u001b[1;32m---> 19\u001b[1;33m         \u001b[0mlista\u001b[0m \u001b[1;33m=\u001b[0m \u001b[1;33m[\u001b[0m\u001b[0mitem\u001b[0m\u001b[1;33m.\u001b[0m\u001b[0mupper\u001b[0m\u001b[1;33m(\u001b[0m\u001b[1;33m)\u001b[0m\u001b[1;33m,\u001b[0m \u001b[0mitem\u001b[0m\u001b[1;33m.\u001b[0m\u001b[0mlower\u001b[0m\u001b[1;33m(\u001b[0m\u001b[1;33m)\u001b[0m\u001b[1;33m,\u001b[0m \u001b[0mlen\u001b[0m\u001b[1;33m(\u001b[0m\u001b[0mitem\u001b[0m\u001b[1;33m)\u001b[0m\u001b[1;33m]\u001b[0m\u001b[1;33m\u001b[0m\u001b[0m\n\u001b[0m\u001b[0;32m     20\u001b[0m     \u001b[1;32mreturn\u001b[0m \u001b[0mlista\u001b[0m\u001b[1;33m\u001b[0m\u001b[0m\n\u001b[0;32m     21\u001b[0m \u001b[1;33m\u001b[0m\u001b[0m\n",
      "\u001b[1;31mAttributeError\u001b[0m: 'list' object has no attribute 'upper'"
     ]
    }
   ],
   "source": [
    "# Exercício 2 - Reescreva o código abaixo, usando a função map(). O resultado final deve ser o mesmo!\n",
    "palavras = 'A Data Science Academy oferce os melhores cursos de análise de dados do Brasil'.split()\n",
    "resultado = [[w.upper(), w.lower(), len(w)] for w in palavras]\n",
    "for i in resultado:\n",
    "    print (i)\n",
    "print()\n",
    "\n",
    "''' \n",
    "# --------------------------------- ARRUMAR ---------------------------------\n",
    "palavras = 'A Data Science Academy oferce os melhores cursos de análise de dados do Brasil'.split()\n",
    "#resultado = [[w.upper(), w.lower(), len(w)] for w in palavras]\n",
    "map(resultado, palavras)    \n",
    "    \n",
    "    \n",
    "def iteracao(item):\n",
    "    count = 0\n",
    "    lista = []\n",
    "    while(count != len(item)+1):\n",
    "        lista = [item.upper(), item.lower(), len(item)]\n",
    "    return lista\n",
    "\n",
    "x = iteracao(palavras)\n",
    "'''"
   ]
  },
  {
   "cell_type": "code",
   "execution_count": 86,
   "metadata": {},
   "outputs": [
    {
     "name": "stdout",
     "output_type": "stream",
     "text": [
      "A matriz \"MAT\" será:\n",
      "\n",
      "-1\t2\t3\t4\t\n",
      "1\t2\t3\t-5\t\n",
      "1\t2\t3\t4\t\n",
      "\n",
      "A matriz \"MAT TRANSPOSTA\" será:\n",
      "\n",
      "-1\t1\t1\t\n",
      "2\t2\t2\t\n",
      "3\t3\t3\t\n",
      "4\t-5\t4\t\n",
      "\n"
     ]
    }
   ],
   "source": [
    "# Exercício 3 - Calcule a matriz transposta da matriz abaixo.\n",
    "# Caso não saiba o que é matriz transposta, visite este link: https://pt.wikipedia.org/wiki/Matriz_transposta\n",
    "# Matriz transposta é um conceito fundamental na construção de redes neurais artificiais, base de sistemas de IA.\n",
    "'''\n",
    "matrix = [[1, 2],[3,4],[5,6],[7,8]]\n",
    "matriz3 = [[0,0,0,0],[0,0,0,0]]\n",
    "for i in range(len(matrix)):\n",
    "    for j in range(len(matrix[i])):\n",
    "        matriz3[j][i] = matrix[i][j]\n",
    "print(matriz3)\n",
    "'''\n",
    "matriz = [[1, 2],[3,4],[5,6],[7,8]]\n",
    "mat = [[-1,2,3,4],[1,2,3,-5], [1,2,3,4]]\n",
    "\n",
    "# NÃO FUNCIONA PARA MATRIZ COM NUMERO DE ELEMENTOS DIFERENTES NAS LINHAS\n",
    "# NÃO FUNCIONA PARA MATRIZ 1 x n\n",
    "def transposta(matrix):\n",
    "    aux = len(matrix[0]) * [[0]]              # cria matriz com numero de zeros para armazenar os numeros - dimensão da transposta\n",
    "    for i in range(len(aux)):                 # laço para fazer a matriz auxiliar ficar com mesmo numero de\n",
    "        aux[i] = aux[i]*len(matrix)\n",
    "    for i in range(len(matrix)):              # laço para operar a transposta\n",
    "        for j in range(len(matrix[i])):\n",
    "            aux[j][i] = matrix[i][j]\n",
    "    return aux                                # retorna a matriz transposta\n",
    "\n",
    "def imprime_matriz(matrix):\n",
    "    for i in range(len(matrix)):\n",
    "        for j in range(len(matrix[0])):\n",
    "            print(matrix[i][j], end=\"\\t\")\n",
    "        print()\n",
    "    print()\n",
    "    \n",
    "\n",
    "m = transposta(mat)\n",
    "print('A matriz \"MAT\" será:\\n')\n",
    "imprime_matriz(mat)     \n",
    "print('A matriz \"MAT TRANSPOSTA\" será:\\n')\n",
    "imprime_matriz(m)     \n"
   ]
  },
  {
   "cell_type": "code",
   "execution_count": 4,
   "metadata": {
    "collapsed": true
   },
   "outputs": [],
   "source": [
    "# Exercício 4 - Crie duas funções, uma para elevar um número ao quadrado e outra para elevar ao cubo. \n",
    "# Aplique as duas funções aos elementos da lista abaixo. \n",
    "# Obs: as duas funções devem ser aplicadas simultaneamente.\n",
    "lista = [0, 1, 2, 3, 4]\n",
    "\n",
    "\n"
   ]
  },
  {
   "cell_type": "code",
   "execution_count": 5,
   "metadata": {
    "collapsed": true
   },
   "outputs": [],
   "source": [
    "# Exercício 5 - Abaixo você encontra duas listas. Faça com que cada elemento da listaA seja elevado \n",
    "# ao elemento correspondente na listaB.\n",
    "listaA = [2, 3, 4]\n",
    "listaB = [10, 11, 12]\n",
    "\n",
    "\n"
   ]
  },
  {
   "cell_type": "code",
   "execution_count": 6,
   "metadata": {},
   "outputs": [
    {
     "data": {
      "text/plain": [
       "range(-5, 5)"
      ]
     },
     "execution_count": 6,
     "metadata": {},
     "output_type": "execute_result"
    }
   ],
   "source": [
    "# Exercício 6 - Considerando o range de valores abaixo, use a função filter() para retornar apenas os valores negativos.\n",
    "range(-5, 5)\n",
    "range(-5, 5)\n",
    "\n",
    "\n"
   ]
  },
  {
   "cell_type": "code",
   "execution_count": 7,
   "metadata": {
    "collapsed": true
   },
   "outputs": [],
   "source": [
    "# Exercício 7 - Usando a função filter(), encontre os valores que são comuns às duas listas abaixo.\n",
    "a = [1,2,3,5,7,9]\n",
    "b = [2,3,5,6,7,8]\n",
    "\n",
    "\n"
   ]
  },
  {
   "cell_type": "code",
   "execution_count": 8,
   "metadata": {},
   "outputs": [
    {
     "ename": "SyntaxError",
     "evalue": "invalid token (<ipython-input-8-b4f6571181d1>, line 5)",
     "output_type": "error",
     "traceback": [
      "\u001b[1;36m  File \u001b[1;32m\"<ipython-input-8-b4f6571181d1>\"\u001b[1;36m, line \u001b[1;32m5\u001b[0m\n\u001b[1;33m    05/07/2021 12:13\u001b[0m\n\u001b[1;37m     ^\u001b[0m\n\u001b[1;31mSyntaxError\u001b[0m\u001b[1;31m:\u001b[0m invalid token\n"
     ]
    }
   ],
   "source": [
    "# Exercício 8 - Considere o código abaixo. Obtenha o mesmo resultado usando o pacote time. \n",
    "# Não conhece o pacote time? Pesquise!\n",
    "import datetime\n",
    "print (datetime.datetime.now().strftime(\"%d/%m/%Y %H:%M\"))\n",
    "05/07/2021 12:13\n",
    "\n",
    "\n"
   ]
  },
  {
   "cell_type": "code",
   "execution_count": 9,
   "metadata": {
    "collapsed": true
   },
   "outputs": [],
   "source": [
    "# Exercício 9 - Considere os dois dicionários abaixo. \n",
    "# Crie um terceiro dicionário com as chaves do dicionário 1 e os valores do dicionário 2.\n",
    "dict1 = {'a':1,'b':2}\n",
    "dict2 = {'c':4,'d':5}\n",
    "\n",
    "\n",
    "\n"
   ]
  },
  {
   "cell_type": "code",
   "execution_count": null,
   "metadata": {
    "collapsed": true
   },
   "outputs": [],
   "source": [
    "# Exercício 10 - Considere a lista abaixo e retorne apenas os elementos cujo índice for maior que 5.\n",
    "lista = ['a', 'b', 'c', 'd', 'e', 'f', 'g', 'h']\n"
   ]
  }
 ],
 "metadata": {
  "kernelspec": {
   "display_name": "Python 3",
   "language": "python",
   "name": "python3"
  },
  "language_info": {
   "codemirror_mode": {
    "name": "ipython",
    "version": 3
   },
   "file_extension": ".py",
   "mimetype": "text/x-python",
   "name": "python",
   "nbconvert_exporter": "python",
   "pygments_lexer": "ipython3",
   "version": "3.6.2"
  }
 },
 "nbformat": 4,
 "nbformat_minor": 2
}
